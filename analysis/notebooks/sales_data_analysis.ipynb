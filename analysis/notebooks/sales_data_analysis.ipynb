{
 "cells": [
  {
   "cell_type": "code",
   "execution_count": 2,
   "id": "adae8d3c-fbab-46fb-bfa3-59b2b647e86b",
   "metadata": {},
   "outputs": [],
   "source": [
    "import pandas as pd"
   ]
  },
  {
   "cell_type": "code",
   "execution_count": 4,
   "id": "d0979151-b66e-48ad-9443-45b485728116",
   "metadata": {},
   "outputs": [],
   "source": [
    "sales_df = pd.read_excel(\"../../data/cleaned_US_Regional_Sales_Data.xlsx\")"
   ]
  },
  {
   "cell_type": "code",
   "execution_count": 6,
   "id": "0b79e209-d61c-4732-a395-ae817ade1fa5",
   "metadata": {},
   "outputs": [
    {
     "name": "stdout",
     "output_type": "stream",
     "text": [
      "<class 'pandas.core.frame.DataFrame'>\n",
      "RangeIndex: 7991 entries, 0 to 7990\n",
      "Data columns (total 21 columns):\n",
      " #   Column            Non-Null Count  Dtype         \n",
      "---  ------            --------------  -----         \n",
      " 0   OrderNumber       7991 non-null   object        \n",
      " 1   Sales Channel     7991 non-null   object        \n",
      " 2   WarehouseCode     7991 non-null   object        \n",
      " 3   ProcuredDate      7991 non-null   datetime64[ns]\n",
      " 4   OrderDate         7991 non-null   datetime64[ns]\n",
      " 5   ShipDate          7991 non-null   datetime64[ns]\n",
      " 6   DeliveryDate      7991 non-null   datetime64[ns]\n",
      " 7   CurrencyCode      7991 non-null   object        \n",
      " 8   Order Quantity    7991 non-null   int64         \n",
      " 9   Discount Applied  7991 non-null   float64       \n",
      " 10  Unit Price        7991 non-null   float64       \n",
      " 11  Unit Cost         7991 non-null   float64       \n",
      " 12  Customer Names    7991 non-null   object        \n",
      " 13  Product Name      7991 non-null   object        \n",
      " 14  Sales Team        7991 non-null   object        \n",
      " 15  City Name         7991 non-null   object        \n",
      " 16  Population        7991 non-null   int64         \n",
      " 17  Household Income  7991 non-null   int64         \n",
      " 18  Median Income     7991 non-null   int64         \n",
      " 19  State             7991 non-null   object        \n",
      " 20  Unit Profit       7991 non-null   float64       \n",
      "dtypes: datetime64[ns](4), float64(4), int64(4), object(9)\n",
      "memory usage: 1.3+ MB\n"
     ]
    }
   ],
   "source": [
    "sales_df.info()"
   ]
  },
  {
   "cell_type": "code",
   "execution_count": null,
   "id": "9b236ef1-e0df-4fa6-8cb8-a4e9a143873f",
   "metadata": {},
   "outputs": [],
   "source": []
  }
 ],
 "metadata": {
  "kernelspec": {
   "display_name": "Python 3 (ipykernel)",
   "language": "python",
   "name": "python3"
  },
  "language_info": {
   "codemirror_mode": {
    "name": "ipython",
    "version": 3
   },
   "file_extension": ".py",
   "mimetype": "text/x-python",
   "name": "python",
   "nbconvert_exporter": "python",
   "pygments_lexer": "ipython3",
   "version": "3.12.3"
  }
 },
 "nbformat": 4,
 "nbformat_minor": 5
}
